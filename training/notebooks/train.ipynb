{
 "cells": [
  {
   "cell_type": "code",
   "execution_count": 1,
   "metadata": {},
   "outputs": [],
   "source": [
    "import sys\n",
    "sys.path.append(\"..\")\n",
    "import os"
   ]
  },
  {
   "cell_type": "code",
   "execution_count": 2,
   "metadata": {},
   "outputs": [
    {
     "name": "stderr",
     "output_type": "stream",
     "text": [
      "/home/mert-kurttutan/miniconda3/envs/pytorch-env/lib/python3.10/site-packages/tqdm/auto.py:22: TqdmWarning: IProgress not found. Please update jupyter and ipywidgets. See https://ipywidgets.readthedocs.io/en/stable/user_install.html\n",
      "  from .autonotebook import tqdm as notebook_tqdm\n"
     ]
    }
   ],
   "source": [
    "from src.data.data import NBADataset, get_hg_nbadata, get_nba_dataloader"
   ]
  },
  {
   "cell_type": "code",
   "execution_count": 4,
   "metadata": {},
   "outputs": [
    {
     "name": "stderr",
     "output_type": "stream",
     "text": [
      "Resolving data files: 100%|██████████| 30/30 [00:00<00:00, 19957.04it/s]\n",
      "Found cached dataset csv (/home/mert-kurttutan/.cache/huggingface/datasets/csv/default-5c645bbe23b3abaa/0.0.0/6b34fb8fcf56f7c8ba51dc895bfa2bfbe43546f190a60fcf74bb5e8afdcc2317)\n",
      "100%|██████████| 1/1 [00:00<00:00, 31.16it/s]\n"
     ]
    }
   ],
   "source": [
    "x = get_hg_nbadata()"
   ]
  },
  {
   "cell_type": "code",
   "execution_count": 5,
   "metadata": {},
   "outputs": [
    {
     "data": {
      "text/plain": [
       "DatasetDict({\n",
       "    train: Dataset({\n",
       "        features: ['Unnamed: 0', 'DAY_WITHIN_SEASON', 'GAME_DATE', 'GAME_ID', 'T1_IS_HOME', 'T1_L', 'T1_L_cum', 'T1_PLUS_MINUS', 'T1_PTS', 'T1_TEAM_ID', 'T1_TEAM_NAME', 'T1_W', 'T1_W_cum', 'T1_lag08_AST', 'T1_lag08_BLK', 'T1_lag08_DREB', 'T1_lag08_FG_PCT', 'T1_lag08_FT_PCT', 'T1_lag08_GP', 'T1_lag08_OREB', 'T1_lag08_PLUS_MINUS', 'T1_lag08_PLUS_MINUS_RANK', 'T1_lag08_PTS', 'T1_lag08_PTS_RANK', 'T1_lag08_REB', 'T1_lag08_STL', 'T1_lag08_TOV', 'T1_lag08_W_PCT', 'T1_lag08_W_PCT_RANK', 'T1_lag16_AST', 'T1_lag16_BLK', 'T1_lag16_DREB', 'T1_lag16_FG_PCT', 'T1_lag16_FT_PCT', 'T1_lag16_GP', 'T1_lag16_OREB', 'T1_lag16_PLUS_MINUS', 'T1_lag16_PLUS_MINUS_RANK', 'T1_lag16_PTS', 'T1_lag16_PTS_RANK', 'T1_lag16_REB', 'T1_lag16_STL', 'T1_lag16_TOV', 'T1_lag16_W_PCT', 'T1_lag16_W_PCT_RANK', 'T1_lag180_AST', 'T1_lag180_BLK', 'T1_lag180_DREB', 'T1_lag180_FG_PCT', 'T1_lag180_FT_PCT', 'T1_lag180_GP', 'T1_lag180_OREB', 'T1_lag180_PLUS_MINUS', 'T1_lag180_PLUS_MINUS_RANK', 'T1_lag180_PTS', 'T1_lag180_PTS_RANK', 'T1_lag180_REB', 'T1_lag180_STL', 'T1_lag180_TOV', 'T1_lag180_W_PCT', 'T1_lag180_W_PCT_RANK', 'T1_lag32_AST', 'T1_lag32_BLK', 'T1_lag32_DREB', 'T1_lag32_FG_PCT', 'T1_lag32_FT_PCT', 'T1_lag32_GP', 'T1_lag32_OREB', 'T1_lag32_PLUS_MINUS', 'T1_lag32_PLUS_MINUS_RANK', 'T1_lag32_PTS', 'T1_lag32_PTS_RANK', 'T1_lag32_REB', 'T1_lag32_STL', 'T1_lag32_TOV', 'T1_lag32_W_PCT', 'T1_lag32_W_PCT_RANK', 'T1_lag64_AST', 'T1_lag64_BLK', 'T1_lag64_DREB', 'T1_lag64_FG_PCT', 'T1_lag64_FT_PCT', 'T1_lag64_GP', 'T1_lag64_OREB', 'T1_lag64_PLUS_MINUS', 'T1_lag64_PLUS_MINUS_RANK', 'T1_lag64_PTS', 'T1_lag64_PTS_RANK', 'T1_lag64_REB', 'T1_lag64_STL', 'T1_lag64_TOV', 'T1_lag64_W_PCT', 'T1_lag64_W_PCT_RANK', 'T2_IS_HOME', 'T2_L', 'T2_L_cum', 'T2_PLUS_MINUS', 'T2_PTS', 'T2_TEAM_ID', 'T2_TEAM_NAME', 'T2_W', 'T2_W_cum', 'T2_lag08_AST', 'T2_lag08_BLK', 'T2_lag08_DREB', 'T2_lag08_FG_PCT', 'T2_lag08_FT_PCT', 'T2_lag08_GP', 'T2_lag08_OREB', 'T2_lag08_PLUS_MINUS', 'T2_lag08_PLUS_MINUS_RANK', 'T2_lag08_PTS', 'T2_lag08_PTS_RANK', 'T2_lag08_REB', 'T2_lag08_STL', 'T2_lag08_TOV', 'T2_lag08_W_PCT', 'T2_lag08_W_PCT_RANK', 'T2_lag16_AST', 'T2_lag16_BLK', 'T2_lag16_DREB', 'T2_lag16_FG_PCT', 'T2_lag16_FT_PCT', 'T2_lag16_GP', 'T2_lag16_OREB', 'T2_lag16_PLUS_MINUS', 'T2_lag16_PLUS_MINUS_RANK', 'T2_lag16_PTS', 'T2_lag16_PTS_RANK', 'T2_lag16_REB', 'T2_lag16_STL', 'T2_lag16_TOV', 'T2_lag16_W_PCT', 'T2_lag16_W_PCT_RANK', 'T2_lag180_AST', 'T2_lag180_BLK', 'T2_lag180_DREB', 'T2_lag180_FG_PCT', 'T2_lag180_FT_PCT', 'T2_lag180_GP', 'T2_lag180_OREB', 'T2_lag180_PLUS_MINUS', 'T2_lag180_PLUS_MINUS_RANK', 'T2_lag180_PTS', 'T2_lag180_PTS_RANK', 'T2_lag180_REB', 'T2_lag180_STL', 'T2_lag180_TOV', 'T2_lag180_W_PCT', 'T2_lag180_W_PCT_RANK', 'T2_lag32_AST', 'T2_lag32_BLK', 'T2_lag32_DREB', 'T2_lag32_FG_PCT', 'T2_lag32_FT_PCT', 'T2_lag32_GP', 'T2_lag32_OREB', 'T2_lag32_PLUS_MINUS', 'T2_lag32_PLUS_MINUS_RANK', 'T2_lag32_PTS', 'T2_lag32_PTS_RANK', 'T2_lag32_REB', 'T2_lag32_STL', 'T2_lag32_TOV', 'T2_lag32_W_PCT', 'T2_lag32_W_PCT_RANK', 'T2_lag64_AST', 'T2_lag64_BLK', 'T2_lag64_DREB', 'T2_lag64_FG_PCT', 'T2_lag64_FT_PCT', 'T2_lag64_GP', 'T2_lag64_OREB', 'T2_lag64_PLUS_MINUS', 'T2_lag64_PLUS_MINUS_RANK', 'T2_lag64_PTS', 'T2_lag64_PTS_RANK', 'T2_lag64_REB', 'T2_lag64_STL', 'T2_lag64_TOV', 'T2_lag64_W_PCT', 'T2_lag64_W_PCT_RANK'],\n",
       "        num_rows: 19148\n",
       "    })\n",
       "})"
      ]
     },
     "execution_count": 5,
     "metadata": {},
     "output_type": "execute_result"
    }
   ],
   "source": [
    "x.set_format(\"torch\")"
   ]
  },
  {
   "cell_type": "code",
   "execution_count": 5,
   "metadata": {},
   "outputs": [
    {
     "ename": "TypeError",
     "evalue": "'DataLoader' object is not subscriptable",
     "output_type": "error",
     "traceback": [
      "\u001b[0;31m---------------------------------------------------------------------------\u001b[0m",
      "\u001b[0;31mTypeError\u001b[0m                                 Traceback (most recent call last)",
      "Cell \u001b[0;32mIn[5], line 1\u001b[0m\n\u001b[0;32m----> 1\u001b[0m ds[\u001b[39m\"\u001b[39;49m\u001b[39mtrain\u001b[39;49m\u001b[39m\"\u001b[39;49m][\u001b[39m100\u001b[39m]\n",
      "\u001b[0;31mTypeError\u001b[0m: 'DataLoader' object is not subscriptable"
     ]
    }
   ],
   "source": [
    "ds[\"train\"][100]"
   ]
  },
  {
   "cell_type": "code",
   "execution_count": 6,
   "metadata": {},
   "outputs": [
    {
     "ename": "KeyError",
     "evalue": "Caught KeyError in DataLoader worker process 0.\nOriginal Traceback (most recent call last):\n  File \"/home/mert-kurttutan/miniconda3/envs/pytorch-env/lib/python3.10/site-packages/torch/utils/data/_utils/worker.py\", line 302, in _worker_loop\n    data = fetcher.fetch(index)\n  File \"/home/mert-kurttutan/miniconda3/envs/pytorch-env/lib/python3.10/site-packages/torch/utils/data/_utils/fetch.py\", line 58, in fetch\n    data = [self.dataset[idx] for idx in possibly_batched_index]\n  File \"/home/mert-kurttutan/miniconda3/envs/pytorch-env/lib/python3.10/site-packages/torch/utils/data/_utils/fetch.py\", line 58, in <listcomp>\n    data = [self.dataset[idx] for idx in possibly_batched_index]\n  File \"/home/mert-kurttutan/miniconda3/envs/pytorch-env/lib/python3.10/site-packages/datasets/dataset_dict.py\", line 64, in __getitem__\n    raise KeyError(\nKeyError: \"Invalid key: 0. Please first select a split. For example: `my_dataset_dictionary['train'][0]`. Available splits: ['train']\"\n",
     "output_type": "error",
     "traceback": [
      "\u001b[0;31m---------------------------------------------------------------------------\u001b[0m",
      "\u001b[0;31mKeyError\u001b[0m                                  Traceback (most recent call last)",
      "Cell \u001b[0;32mIn[6], line 1\u001b[0m\n\u001b[0;32m----> 1\u001b[0m \u001b[39mfor\u001b[39;00m batch \u001b[39min\u001b[39;00m ds:\n\u001b[1;32m      2\u001b[0m     \u001b[39mprint\u001b[39m(batch)\n",
      "File \u001b[0;32m~/miniconda3/envs/pytorch-env/lib/python3.10/site-packages/torch/utils/data/dataloader.py:628\u001b[0m, in \u001b[0;36m_BaseDataLoaderIter.__next__\u001b[0;34m(self)\u001b[0m\n\u001b[1;32m    625\u001b[0m \u001b[39mif\u001b[39;00m \u001b[39mself\u001b[39m\u001b[39m.\u001b[39m_sampler_iter \u001b[39mis\u001b[39;00m \u001b[39mNone\u001b[39;00m:\n\u001b[1;32m    626\u001b[0m     \u001b[39m# TODO(https://github.com/pytorch/pytorch/issues/76750)\u001b[39;00m\n\u001b[1;32m    627\u001b[0m     \u001b[39mself\u001b[39m\u001b[39m.\u001b[39m_reset()  \u001b[39m# type: ignore[call-arg]\u001b[39;00m\n\u001b[0;32m--> 628\u001b[0m data \u001b[39m=\u001b[39m \u001b[39mself\u001b[39;49m\u001b[39m.\u001b[39;49m_next_data()\n\u001b[1;32m    629\u001b[0m \u001b[39mself\u001b[39m\u001b[39m.\u001b[39m_num_yielded \u001b[39m+\u001b[39m\u001b[39m=\u001b[39m \u001b[39m1\u001b[39m\n\u001b[1;32m    630\u001b[0m \u001b[39mif\u001b[39;00m \u001b[39mself\u001b[39m\u001b[39m.\u001b[39m_dataset_kind \u001b[39m==\u001b[39m _DatasetKind\u001b[39m.\u001b[39mIterable \u001b[39mand\u001b[39;00m \\\n\u001b[1;32m    631\u001b[0m         \u001b[39mself\u001b[39m\u001b[39m.\u001b[39m_IterableDataset_len_called \u001b[39mis\u001b[39;00m \u001b[39mnot\u001b[39;00m \u001b[39mNone\u001b[39;00m \u001b[39mand\u001b[39;00m \\\n\u001b[1;32m    632\u001b[0m         \u001b[39mself\u001b[39m\u001b[39m.\u001b[39m_num_yielded \u001b[39m>\u001b[39m \u001b[39mself\u001b[39m\u001b[39m.\u001b[39m_IterableDataset_len_called:\n",
      "File \u001b[0;32m~/miniconda3/envs/pytorch-env/lib/python3.10/site-packages/torch/utils/data/dataloader.py:1333\u001b[0m, in \u001b[0;36m_MultiProcessingDataLoaderIter._next_data\u001b[0;34m(self)\u001b[0m\n\u001b[1;32m   1331\u001b[0m \u001b[39melse\u001b[39;00m:\n\u001b[1;32m   1332\u001b[0m     \u001b[39mdel\u001b[39;00m \u001b[39mself\u001b[39m\u001b[39m.\u001b[39m_task_info[idx]\n\u001b[0;32m-> 1333\u001b[0m     \u001b[39mreturn\u001b[39;00m \u001b[39mself\u001b[39;49m\u001b[39m.\u001b[39;49m_process_data(data)\n",
      "File \u001b[0;32m~/miniconda3/envs/pytorch-env/lib/python3.10/site-packages/torch/utils/data/dataloader.py:1359\u001b[0m, in \u001b[0;36m_MultiProcessingDataLoaderIter._process_data\u001b[0;34m(self, data)\u001b[0m\n\u001b[1;32m   1357\u001b[0m \u001b[39mself\u001b[39m\u001b[39m.\u001b[39m_try_put_index()\n\u001b[1;32m   1358\u001b[0m \u001b[39mif\u001b[39;00m \u001b[39misinstance\u001b[39m(data, ExceptionWrapper):\n\u001b[0;32m-> 1359\u001b[0m     data\u001b[39m.\u001b[39;49mreraise()\n\u001b[1;32m   1360\u001b[0m \u001b[39mreturn\u001b[39;00m data\n",
      "File \u001b[0;32m~/miniconda3/envs/pytorch-env/lib/python3.10/site-packages/torch/_utils.py:543\u001b[0m, in \u001b[0;36mExceptionWrapper.reraise\u001b[0;34m(self)\u001b[0m\n\u001b[1;32m    539\u001b[0m \u001b[39mexcept\u001b[39;00m \u001b[39mTypeError\u001b[39;00m:\n\u001b[1;32m    540\u001b[0m     \u001b[39m# If the exception takes multiple arguments, don't try to\u001b[39;00m\n\u001b[1;32m    541\u001b[0m     \u001b[39m# instantiate since we don't know how to\u001b[39;00m\n\u001b[1;32m    542\u001b[0m     \u001b[39mraise\u001b[39;00m \u001b[39mRuntimeError\u001b[39;00m(msg) \u001b[39mfrom\u001b[39;00m \u001b[39mNone\u001b[39m\n\u001b[0;32m--> 543\u001b[0m \u001b[39mraise\u001b[39;00m exception\n",
      "\u001b[0;31mKeyError\u001b[0m: Caught KeyError in DataLoader worker process 0.\nOriginal Traceback (most recent call last):\n  File \"/home/mert-kurttutan/miniconda3/envs/pytorch-env/lib/python3.10/site-packages/torch/utils/data/_utils/worker.py\", line 302, in _worker_loop\n    data = fetcher.fetch(index)\n  File \"/home/mert-kurttutan/miniconda3/envs/pytorch-env/lib/python3.10/site-packages/torch/utils/data/_utils/fetch.py\", line 58, in fetch\n    data = [self.dataset[idx] for idx in possibly_batched_index]\n  File \"/home/mert-kurttutan/miniconda3/envs/pytorch-env/lib/python3.10/site-packages/torch/utils/data/_utils/fetch.py\", line 58, in <listcomp>\n    data = [self.dataset[idx] for idx in possibly_batched_index]\n  File \"/home/mert-kurttutan/miniconda3/envs/pytorch-env/lib/python3.10/site-packages/datasets/dataset_dict.py\", line 64, in __getitem__\n    raise KeyError(\nKeyError: \"Invalid key: 0. Please first select a split. For example: `my_dataset_dictionary['train'][0]`. Available splits: ['train']\"\n"
     ]
    }
   ],
   "source": [
    "for batch in ds:\n",
    "    print(batch)"
   ]
  },
  {
   "cell_type": "code",
   "execution_count": null,
   "metadata": {},
   "outputs": [],
   "source": []
  }
 ],
 "metadata": {
  "kernelspec": {
   "display_name": "pytorch-env",
   "language": "python",
   "name": "python3"
  },
  "language_info": {
   "codemirror_mode": {
    "name": "ipython",
    "version": 3
   },
   "file_extension": ".py",
   "mimetype": "text/x-python",
   "name": "python",
   "nbconvert_exporter": "python",
   "pygments_lexer": "ipython3",
   "version": "3.10.8"
  },
  "orig_nbformat": 4,
  "vscode": {
   "interpreter": {
    "hash": "70d612b283d01ec4363ad8d402f22493234f9e6f823eb24b777bb7b2472b1ace"
   }
  }
 },
 "nbformat": 4,
 "nbformat_minor": 2
}
