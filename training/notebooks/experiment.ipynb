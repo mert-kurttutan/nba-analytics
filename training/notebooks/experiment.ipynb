{
 "cells": [
  {
   "cell_type": "code",
   "execution_count": 19,
   "metadata": {},
   "outputs": [],
   "source": [
    "import pandas as pd\n",
    "import numpy as np"
   ]
  },
  {
   "cell_type": "code",
   "execution_count": 12,
   "metadata": {},
   "outputs": [],
   "source": [
    "pd_table = pd.read_csv(\"../nbadata/training_2008_regular.csv\")"
   ]
  },
  {
   "cell_type": "code",
   "execution_count": 5,
   "metadata": {},
   "outputs": [],
   "source": [
    "\n",
    "COLS_TO_DROP = [\n",
    "    \"Unnamed: 0\",\n",
    "    \"GAME_DATE\",\n",
    "    \"GAME_ID\",\n",
    "    \"T1_TEAM_NAME\",\n",
    "    \"T2_TEAM_NAME\",\n",
    "    \"T1_PTS\",\n",
    "    \"T2_PTS\",\n",
    "    \"T1_PLUS_MINUS\",\n",
    "    \"T2_PLUS_MINUS\",\n",
    "    \"T1_L\",\n",
    "    \"T2_L\",\n",
    "    \"T1_L_cum\",\n",
    "    \"T2_L_cum\",\n",
    "    \"T2_W\",\n",
    "    \"T2_IS_HOME\",\n",
    "]\n",
    "\n",
    "LABEL_COL = \"T1_W\"\n",
    "team_id_offset = 1610612700\n",
    "\n",
    "pd_table.drop(columns=COLS_TO_DROP, inplace=True)\n",
    "pd_table.dropna(inplace=True)\n",
    "\n",
    "pd_table.loc[:, \"T1_IS_HOME\"] = pd_table.loc[:, \"T1_IS_HOME\"].astype(int)\n",
    "pd_table.loc[:, [\"T1_TEAM_ID\", \"T2_TEAM_ID\"]] = (\n",
    "    pd_table.loc[:, [\"T1_TEAM_ID\", \"T2_TEAM_ID\"]] - team_id_offset\n",
    ")\n",
    "\n",
    "train_x = pd_table.drop(columns=LABEL_COL)\n",
    "train_y = pd_table.loc[:, LABEL_COL]"
   ]
  },
  {
   "cell_type": "code",
   "execution_count": 20,
   "metadata": {},
   "outputs": [
    {
     "data": {
      "text/plain": [
       "0.608130081300813"
      ]
     },
     "execution_count": 20,
     "metadata": {},
     "output_type": "execute_result"
    }
   ],
   "source": [
    "np.mean(pd_table[\"T1_W\"] == pd_table[\"T1_IS_HOME\"])"
   ]
  },
  {
   "cell_type": "code",
   "execution_count": null,
   "metadata": {},
   "outputs": [],
   "source": []
  }
 ],
 "metadata": {
  "kernelspec": {
   "display_name": "pytorch-env",
   "language": "python",
   "name": "python3"
  },
  "language_info": {
   "codemirror_mode": {
    "name": "ipython",
    "version": 3
   },
   "file_extension": ".py",
   "mimetype": "text/x-python",
   "name": "python",
   "nbconvert_exporter": "python",
   "pygments_lexer": "ipython3",
   "version": "3.10.8"
  },
  "orig_nbformat": 4,
  "vscode": {
   "interpreter": {
    "hash": "70d612b283d01ec4363ad8d402f22493234f9e6f823eb24b777bb7b2472b1ace"
   }
  }
 },
 "nbformat": 4,
 "nbformat_minor": 2
}
